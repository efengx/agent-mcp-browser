{
 "cells": [
  {
   "cell_type": "code",
   "execution_count": null,
   "id": "9e871a65",
   "metadata": {},
   "outputs": [],
   "source": [
    "## start\n",
    "'''\n",
    "-- build docker image\n",
    "docker build -t browser-use-agent-mcp-server-base -f Dockerfile.base .\n",
    "docker build -t browser-use-agent-mcp-server .\n",
    "\n",
    "-- 启动参数, 见postiz-app中的docker-compose.dev.yml文件\n",
    "\n",
    "-- 测试dockerfile文件中的命令\n",
    "docker run -it --rm --name test-agent-mcp-browser-use browser-use-mcp-server-base-1 /bin/bash\n",
    "-- 测试命令\n",
    "apt-cache show curl\n",
    "\n",
    "\n",
    "-- 测试已经build的browser-use-mcp-server镜像\n",
    "docker run -it --rm browser-use-mcp-server /bin/bash\n",
    "\n",
    "docker run --rm -e OPENAI_API_KEY=\"\" -p8005:8000 -p5900:5900 browser-use-mcp-server\n",
    "'''\n"
   ]
  }
 ],
 "metadata": {
  "language_info": {
   "name": "python"
  }
 },
 "nbformat": 4,
 "nbformat_minor": 5
}
